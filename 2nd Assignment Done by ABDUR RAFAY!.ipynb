{
 "cells": [
  {
   "cell_type": "markdown",
   "metadata": {},
   "source": [
    "## 1. Divisibility Check of two numbers\n",
    "\n",
    "Write a Python program to check whether a number is completely divisible by another number. Accept two integer values form the user\n",
    "##### Program Console Sample Output 1:\n",
    "Enter numerator: 4\n",
    "\n",
    "Enter Denominator: 2\n",
    "\n",
    "Number 4 is Completely divisible by 2\n",
    "###### Program Console Sample Output 2:\n",
    "Enter numerator: 7\n",
    "\n",
    "Enter Denominator: 4\n",
    "\n",
    "Number 7 is not Completely divisible by 4"
   ]
  },
  {
   "cell_type": "code",
   "execution_count": 12,
   "metadata": {},
   "outputs": [
    {
     "name": "stdout",
     "output_type": "stream",
     "text": [
      "Enter the number: 43\n",
      "Enter the another number: 34\n",
      "NUMBER 43 IS NOT COMPLETELY DIVISIBLE BY 34\n"
     ]
    }
   ],
   "source": [
    "numerator=int(input(\"Enter the number: \"))\n",
    "denominator=int(input(\"Enter the another number: \"))\n",
    "if numerator%denominator == 0:\n",
    "    print(\"NUMBER\",numerator,\"IS COMPLETELY DIVISIBLE BY\",denominator)\n",
    "else:\n",
    "   print(\"NUMBER\",numerator,\"IS NOT COMPLETELY DIVISIBLE BY\",denominator)"
   ]
  },
  {
   "cell_type": "markdown",
   "metadata": {},
   "source": [
    "## 2. Copy string n times\n",
    "Write a Python program to get a string which is n (non-negative integer) copies of a given string.\n",
    "##### Program Console Output:\n",
    "Enter String: Hi\n",
    "\n",
    "How many copies of String you need: 4\n",
    "\n",
    "4 Copies of Hi are HiHiHiHi"
   ]
  },
  {
   "cell_type": "code",
   "execution_count": 16,
   "metadata": {},
   "outputs": [
    {
     "name": "stdout",
     "output_type": "stream",
     "text": [
      "Enter any stringHi\n",
      "Enter how many copies of string you want4\n",
      "4 Copies of Hi are HiHiHiHi\n"
     ]
    }
   ],
   "source": [
    "string = input(\"Enter any string\")\n",
    "num_of_copies = int(input(\"Enter how many copies of string you want\"))\n",
    "result = num_of_copies*string\n",
    "print(num_of_copies,\"Copies of\",string,\"are\" ,result)"
   ]
  },
  {
   "cell_type": "markdown",
   "metadata": {},
   "source": [
    "## 3. Vowel Tester\n",
    "Write a Python program to test whether a passed letter is a vowel or not\n",
    "#### Program Console Output 1:\n",
    "Enter a character: A\n",
    "\n",
    "Letter A is Vowel\n",
    "#### Program Console Output 2:\n",
    "Enter a character: e\n",
    "\n",
    "Letter e is Vowel\n",
    "#### Program Console Output 2:\n",
    "Enter a character: N\n",
    "Letter N is not Vowel"
   ]
  },
  {
   "cell_type": "code",
   "execution_count": 21,
   "metadata": {},
   "outputs": [
    {
     "name": "stdout",
     "output_type": "stream",
     "text": [
      "Enter a character:- I\n",
      "LETTER I is VOWEL\n"
     ]
    }
   ],
   "source": [
    "word = input(\"Enter a character:- \")\n",
    "vowel = [\"A\",\"E\",\"I\",\"O\",\"U\"]\n",
    "if word.upper() in vowel:\n",
    "    print(\"LETTER\",word ,\"is VOWEL\")\n",
    "else:\n",
    "    print(\"LETTER\",word,\"IS NOT VOWEL\")"
   ]
  },
  {
   "cell_type": "markdown",
   "metadata": {},
   "source": [
    "## 4. Odd No.s\n",
    "Use the third argument of the range() function to make a list of the odd numbers from 1 to 20. Use a for loop to print each number."
   ]
  },
  {
   "cell_type": "code",
   "execution_count": 23,
   "metadata": {},
   "outputs": [
    {
     "name": "stdout",
     "output_type": "stream",
     "text": [
      "1\n",
      "3\n",
      "5\n",
      "7\n",
      "9\n",
      "11\n",
      "13\n",
      "15\n",
      "17\n",
      "19\n"
     ]
    }
   ],
   "source": [
    "for r in range(1,21,2):\n",
    "    print(r)"
   ]
  },
  {
   "cell_type": "markdown",
   "metadata": {},
   "source": [
    "## 5. Food Slicing\n",
    "Make a python program that contains your nine favourite dishes in a list called foods.Print the message, \n",
    "\n",
    "**The first three items in the list are:**\n",
    "\n",
    "Then use a slice to print the first three items from that program’s list.Print the message, \n",
    "\n",
    "**Three items from the middle of the list are:**\n",
    "\n",
    "Use a slice to print three items from the middle of the list.Print the message, \n",
    "\n",
    "**The last three items in the list are:**\n",
    "\n",
    "Use a slice to print the last three items in the list."
   ]
  },
  {
   "cell_type": "code",
   "execution_count": 24,
   "metadata": {},
   "outputs": [
    {
     "name": "stdout",
     "output_type": "stream",
     "text": [
      "THE FIRST THREE ITEMS IN THE LIST ARE: ['Chowmein', 'Zinger Burger', 'Spaghetti']\n",
      "THREE ITEMS FROM THE MIDDLE OF THE LIST ARE: ['Chineese', 'Manchorian', 'BBQ']\n",
      "THE LAST THREE ITEMS IN THE LIST ARE: ['Noodles', 'Club Sandwhich', 'Faloda']\n"
     ]
    }
   ],
   "source": [
    "list_of_food=['Chowmein','Zinger Burger','Spaghetti','Chineese','Manchorian','BBQ','Noodles','Club Sandwhich','Faloda']\n",
    "print(\"THE FIRST THREE ITEMS IN THE LIST ARE:\",list_of_food[0:3])\n",
    "print(\"THREE ITEMS FROM THE MIDDLE OF THE LIST ARE:\",list_of_food[3:6])\n",
    "print(\"THE LAST THREE ITEMS IN THE LIST ARE:\",list_of_food[-3:])"
   ]
  }
 ],
 "metadata": {
  "kernelspec": {
   "display_name": "Python 3",
   "language": "python",
   "name": "python3"
  },
  "language_info": {
   "codemirror_mode": {
    "name": "ipython",
    "version": 3
   },
   "file_extension": ".py",
   "mimetype": "text/x-python",
   "name": "python",
   "nbconvert_exporter": "python",
   "pygments_lexer": "ipython3",
   "version": "3.7.4"
  }
 },
 "nbformat": 4,
 "nbformat_minor": 2
}
